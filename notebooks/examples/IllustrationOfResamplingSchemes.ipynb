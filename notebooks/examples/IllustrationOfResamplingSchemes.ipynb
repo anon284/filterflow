{
 "cells": [
  {
   "cell_type": "code",
   "execution_count": 1,
   "metadata": {},
   "outputs": [],
   "source": [
    "import os, sys\n",
    "# add to path\n",
    "from pathlib import Path\n",
    "\n",
    "sys.path.append(\"../..\")"
   ]
  },
  {
   "cell_type": "code",
   "execution_count": 2,
   "metadata": {},
   "outputs": [],
   "source": [
    "import matplotlib.pyplot as plt\n",
    "import numpy as np\n",
    "import seaborn as sns\n",
    "import tensorflow as tf\n",
    "\n",
    "from filterflow.base import State\n",
    "from filterflow.resampling import (RegularisedTransform, \n",
    "                                   PartiallyCorrectedRegularizedTransform, \n",
    "                                   CorrectedRegularizedTransform, \n",
    "                                   OptimizedPointCloud, \n",
    "                                   SGD, \n",
    "                                   SinkhornLoss, \n",
    "                                   MultinomialResampler, \n",
    "                                   SystematicResampler, \n",
    "                                   StratifiedResampler, \n",
    "                                   NoResampling)"
   ]
  },
  {
   "cell_type": "code",
   "execution_count": 3,
   "metadata": {},
   "outputs": [],
   "source": [
    "random_state = np.random.RandomState(42)\n",
    "N = 25\n",
    "x = random_state.normal(0., 1., [N, 2]).astype(np.float32)\n",
    "w = random_state.uniform(0., 1., [N]).astype(np.float32) ** 2\n",
    "w /= w.sum()\n",
    "\n",
    "log_w = np.log(w)"
   ]
  },
  {
   "cell_type": "code",
   "execution_count": 20,
   "metadata": {},
   "outputs": [],
   "source": [
    "state = State(tf.convert_to_tensor(x[None, :, :]), tf.convert_to_tensor(log_w[None, :]))\n",
    "flag = tf.constant([True])"
   ]
  },
  {
   "cell_type": "code",
   "execution_count": 5,
   "metadata": {},
   "outputs": [],
   "source": [
    "epsilons = [0.01, 0.05, 0.1, 0.25, 0.33, 0.5, 0.75, 1.]"
   ]
  },
  {
   "cell_type": "code",
   "execution_count": 6,
   "metadata": {},
   "outputs": [],
   "source": [
    "regularized_states = []\n",
    "for epsilon in epsilons:\n",
    "    regularized_transform = RegularisedTransform(tf.constant(epsilon))\n",
    "    resampled_state = regularized_transform.apply(state, flag)\n",
    "    regularized_states.append(resampled_state.particles[0].numpy())"
   ]
  },
  {
   "cell_type": "code",
   "execution_count": 21,
   "metadata": {},
   "outputs": [],
   "source": [
    "optimized_states_non_sym = []\n",
    "\n",
    "for epsilon in epsilons:\n",
    "    loss = SinkhornLoss(tf.constant(epsilon), max_iter=100)\n",
    "    sgd = SGD(loss, decay=0.95, lr=1., n_iter=100)\n",
    "    intermediate_resampler = NoResampling()\n",
    "    cloud_optimizer = OptimizedPointCloud(sgd, intermediate_resampler)\n",
    "    resampled_state = cloud_optimizer.apply(state, flag)\n",
    "    optimized_states_non_sym.append(resampled_state.particles[0].numpy())"
   ]
  },
  {
   "cell_type": "code",
   "execution_count": 8,
   "metadata": {},
   "outputs": [],
   "source": [
    "optimized_states_sym = []\n",
    "\n",
    "for epsilon in epsilons:\n",
    "    loss = SinkhornLoss(tf.constant(epsilon), max_iter=100, symmetric=True)\n",
    "    sgd = SGD(loss, decay=0.99, lr=10., n_iter=100)\n",
    "    intermediate_resampler = NoResampling()\n",
    "    cloud_optimizer = OptimizedPointCloud(sgd, intermediate_resampler)\n",
    "    resampled_state = cloud_optimizer.apply(state, flag)\n",
    "    optimized_states_sym.append(resampled_state.particles[0].numpy())"
   ]
  },
  {
   "cell_type": "code",
   "execution_count": 9,
   "metadata": {},
   "outputs": [],
   "source": [
    "variance_corrected_states = []\n",
    "for epsilon in epsilons:\n",
    "    regularized_transform = RegularisedTransform(tf.constant(epsilon))\n",
    "    variance_corrected_transform = PartiallyCorrectedRegularizedTransform(regularized_transform)\n",
    "    resampled_state = variance_corrected_transform.apply(state, flag)\n",
    "    variance_corrected_states.append(resampled_state.particles[0].numpy())"
   ]
  },
  {
   "cell_type": "code",
   "execution_count": 10,
   "metadata": {},
   "outputs": [],
   "source": [
    "covariance_corrected_states = []\n",
    "for epsilon in epsilons:\n",
    "    covariance_corrected_transform = CorrectedRegularizedTransform(tf.constant(epsilon))\n",
    "    resampled_state = covariance_corrected_transform.apply(state, flag)\n",
    "    covariance_corrected_states.append(resampled_state.particles[0].numpy())"
   ]
  },
  {
   "cell_type": "code",
   "execution_count": 11,
   "metadata": {},
   "outputs": [],
   "source": [
    "multinomial_resampler = MultinomialResampler()\n",
    "multinomial_state = multinomial_resampler.apply(state, flag).particles[0].numpy()\n",
    "\n",
    "systematic_resampler = SystematicResampler()\n",
    "systematic_state = systematic_resampler.apply(state, flag).particles[0].numpy()\n",
    "\n",
    "stratified_resampler = StratifiedResampler()\n",
    "stratified_state = stratified_resampler.apply(state, flag).particles[0].numpy()"
   ]
  },
  {
   "cell_type": "code",
   "execution_count": 37,
   "metadata": {},
   "outputs": [],
   "source": [
    "def plot_scatter(state, directory, epsilon):\n",
    "    fig, ax = plt.subplots(figsize=(10, 10))\n",
    "    ax.set_xlim(-3., 3.)\n",
    "    ax.set_ylim(-3., 3.)\n",
    "    g = sns.kdeplot(state[:, 0], state[:, 1], shade=False, color='xkcd:light grey', ax=ax)\n",
    "    ax.scatter(state[:, 0], state[:, 1], c=\"k\", s=30, linewidth=1, marker=\"o\")\n",
    "    ax.set_alpha(0)\n",
    "    ax.set_xlabel(\"$X_1$\")\n",
    "    ax.set_ylabel(\"$X_2$\")\n",
    "\n",
    "    dir_path = os.path.join(\"./charts/illustrations\", directory)\n",
    "    Path(dir_path).mkdir(parents=True, exist_ok=True)\n",
    "    fig.tight_layout()\n",
    "    fig.savefig(os.path.join(dir_path, f\"epsilon{str(epsilon)}.png\"))\n",
    "    plt.close()"
   ]
  },
  {
   "cell_type": "code",
   "execution_count": 38,
   "metadata": {},
   "outputs": [],
   "source": [
    "plot_scatter(multinomial_state, \"standard\", \"multinomial\")\n",
    "plot_scatter(systematic_state, \"standard\", \"systematic\")\n",
    "plot_scatter(stratified_state, \"standard\", \"stratified\")"
   ]
  },
  {
   "cell_type": "code",
   "execution_count": 39,
   "metadata": {},
   "outputs": [],
   "source": [
    "for epsilon, state in zip(epsilons, regularized_states):\n",
    "    plot_scatter(state, \"regularized\", epsilon)"
   ]
  },
  {
   "cell_type": "code",
   "execution_count": 40,
   "metadata": {},
   "outputs": [],
   "source": [
    "plot_scatter(x, \"standard\", \"degenerate\")"
   ]
  },
  {
   "cell_type": "code",
   "execution_count": 41,
   "metadata": {},
   "outputs": [],
   "source": [
    "for epsilon, state in zip(epsilons, optimized_states_sym):\n",
    "    plot_scatter(state, \"optimized_sym\", epsilon)"
   ]
  },
  {
   "cell_type": "code",
   "execution_count": 42,
   "metadata": {},
   "outputs": [],
   "source": [
    "for epsilon, state in zip(epsilons, optimized_states_non_sym):\n",
    "    plot_scatter(state, \"optimized_biased\", epsilon)"
   ]
  },
  {
   "cell_type": "code",
   "execution_count": 43,
   "metadata": {},
   "outputs": [],
   "source": [
    "for epsilon, state in zip(epsilons, variance_corrected_states):\n",
    "    plot_scatter(state, \"variance\", epsilon)"
   ]
  },
  {
   "cell_type": "code",
   "execution_count": 44,
   "metadata": {},
   "outputs": [],
   "source": [
    "for epsilon, state in zip(epsilons, covariance_corrected_states):\n",
    "    plot_scatter(state, \"covariance\", epsilon)"
   ]
  },
  {
   "cell_type": "code",
   "execution_count": null,
   "metadata": {},
   "outputs": [],
   "source": []
  },
  {
   "cell_type": "code",
   "execution_count": null,
   "metadata": {},
   "outputs": [],
   "source": []
  },
  {
   "cell_type": "code",
   "execution_count": null,
   "metadata": {},
   "outputs": [],
   "source": []
  },
  {
   "cell_type": "code",
   "execution_count": null,
   "metadata": {},
   "outputs": [],
   "source": []
  }
 ],
 "metadata": {
  "kernelspec": {
   "display_name": "Python 3",
   "language": "python",
   "name": "python3"
  },
  "language_info": {
   "codemirror_mode": {
    "name": "ipython",
    "version": 3
   },
   "file_extension": ".py",
   "mimetype": "text/x-python",
   "name": "python",
   "nbconvert_exporter": "python",
   "pygments_lexer": "ipython3",
   "version": "3.7.6"
  }
 },
 "nbformat": 4,
 "nbformat_minor": 4
}
