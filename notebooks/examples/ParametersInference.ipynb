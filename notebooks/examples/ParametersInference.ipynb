{
 "cells": [
  {
   "cell_type": "markdown",
   "metadata": {},
   "source": [
    "# Parameters Inference"
   ]
  },
  {
   "cell_type": "markdown",
   "metadata": {},
   "source": [
    "The goal of this notebook is to show the user how to use the gradient calculated through autodiff to do parameters inference. To do so we reproduce the same example as in custom models."
   ]
  },
  {
   "cell_type": "markdown",
   "metadata": {},
   "source": [
    "$y_t = \\epsilon_t \\exp\\big(\\frac{h_t}{2}\\big), \\quad \\epsilon_t \\sim \\mathcal{N}(0,1)$\n",
    "\n",
    "$h_{t+1} = \\mu(1 − \\phi) + \\phi h_t + \\sigma_\\eta \\eta_t, \\quad \\eta_t \\sim \\mathcal{N}(0,1)$, $t = 1,..., T,$\n",
    "\n",
    "$h_0 \\sim \\mathcal{N}\\big(0, \\frac{\\sigma^2_η}{(1 − \\phi^2)}\\big)$"
   ]
  },
  {
   "cell_type": "markdown",
   "metadata": {},
   "source": [
    "## Imports"
   ]
  },
  {
   "cell_type": "markdown",
   "metadata": {},
   "source": [
    "First thing first: let's import what we'll be needing."
   ]
  },
  {
   "cell_type": "code",
   "execution_count": 1,
   "metadata": {},
   "outputs": [],
   "source": [
    "import sys\n",
    "sys.path.append(\"../..\")"
   ]
  },
  {
   "cell_type": "code",
   "execution_count": 2,
   "metadata": {},
   "outputs": [],
   "source": [
    "import matplotlib.pyplot as plt\n",
    "import numpy as np"
   ]
  },
  {
   "cell_type": "code",
   "execution_count": 3,
   "metadata": {},
   "outputs": [],
   "source": [
    "# tensorflow imports\n",
    "import tensorflow as tf\n",
    "import tensorflow_probability as tfp\n",
    "tfd = tfp.distributions"
   ]
  },
  {
   "cell_type": "code",
   "execution_count": 4,
   "metadata": {},
   "outputs": [],
   "source": [
    "# filterflow model imports\n",
    "from filterflow import SMC, State\n",
    "from filterflow.observation import ObservationModelBase\n",
    "from filterflow.proposal import BootstrapProposalModel\n",
    "from filterflow.transition import RandomWalkModel, TransitionModelBase"
   ]
  },
  {
   "cell_type": "markdown",
   "metadata": {},
   "source": [
    "### The Model"
   ]
  },
  {
   "cell_type": "markdown",
   "metadata": {},
   "source": [
    "The transition model can be encoded by adding a location to the normal distribution:"
   ]
  },
  {
   "cell_type": "code",
   "execution_count": 5,
   "metadata": {},
   "outputs": [],
   "source": [
    "dx = 1\n",
    "mu = tf.Variable(tf.constant(0.), trainable=True)\n",
    "phi = tf.Variable(tf.constant(0.5), trainable=True)\n",
    "sigma_x = tf.Variable(0.5 * tf.ones(dx), trainable=True)\n",
    "\n",
    "noise_rv = tfd.MultivariateNormalDiag(mu*(1-phi), sigma_x)\n",
    "transition_matrix = phi * tf.eye(dx)\n",
    "\n",
    "transition_model = RandomWalkModel(transition_matrix, noise_rv)"
   ]
  },
  {
   "cell_type": "markdown",
   "metadata": {},
   "source": [
    "The Observation model however is a bit more complicated and you'll have to code it yourself, hopefully, this is done in a few lines of code:"
   ]
  },
  {
   "cell_type": "markdown",
   "metadata": {},
   "source": [
    "ObservationModelBase is a base class that only has a loglikelihood method"
   ]
  },
  {
   "cell_type": "code",
   "execution_count": 6,
   "metadata": {},
   "outputs": [],
   "source": [
    "class StochVolObservationModel(ObservationModelBase):\n",
    "    def __init__(self, observation_error, name='StochVolObservationModel'):\n",
    "        super(StochVolObservationModel, self).__init__(name=name)\n",
    "        self._observation_error = observation_error\n",
    "        \n",
    "    def _get_distribution(self, exp_particles):\n",
    "        scale = tfp.bijectors.Scale(exp_particles)\n",
    "        return tfd.TransformedDistribution(self._observation_error, scale)\n",
    "        \n",
    "    def loglikelihood(self, state, observation):\n",
    "        # To simplify our work, let's simply use the tfp.bijectors utilities:\n",
    "        particles = state.particles\n",
    "        exp_particles = tf.exp(state.particles / 2.)\n",
    "        dist = self._get_distribution(exp_particles)\n",
    "        likelihoods = dist.log_prob(observation)\n",
    "        return likelihoods"
   ]
  },
  {
   "cell_type": "code",
   "execution_count": 7,
   "metadata": {},
   "outputs": [],
   "source": [
    "dy = 1\n",
    "sigma_y = tf.Variable(0.5 * tf.ones(dx))\n",
    "\n",
    "error_rv = tfd.MultivariateNormalDiag(scale_diag=sigma_y)\n",
    "\n",
    "observation_model = StochVolObservationModel(error_rv)"
   ]
  },
  {
   "cell_type": "markdown",
   "metadata": {},
   "source": [
    "### Let's test it"
   ]
  },
  {
   "cell_type": "markdown",
   "metadata": {},
   "source": [
    "First get some data:"
   ]
  },
  {
   "cell_type": "code",
   "execution_count": 8,
   "metadata": {},
   "outputs": [],
   "source": [
    "import quandl"
   ]
  },
  {
   "cell_type": "code",
   "execution_count": 9,
   "metadata": {},
   "outputs": [],
   "source": [
    "API_KEY = \"CnKBgy39JqPW7ejJJfV9\""
   ]
  },
  {
   "cell_type": "markdown",
   "metadata": {},
   "source": [
    "You can visit https://www.quandl.com/ to get your own API key"
   ]
  },
  {
   "cell_type": "code",
   "execution_count": 10,
   "metadata": {},
   "outputs": [],
   "source": [
    "start_date = \"2019-09-01\"\n",
    "end_date = \"2020-01-01\""
   ]
  },
  {
   "cell_type": "code",
   "execution_count": 11,
   "metadata": {},
   "outputs": [],
   "source": [
    "quandl.ApiConfig.api_key = API_KEY\n",
    "d = quandl.get(\"ECB/EURUSD\", start_date=start_date, end_date=end_date)"
   ]
  },
  {
   "cell_type": "code",
   "execution_count": 12,
   "metadata": {},
   "outputs": [
    {
     "data": {
      "text/html": [
       "<div>\n",
       "<style scoped>\n",
       "    .dataframe tbody tr th:only-of-type {\n",
       "        vertical-align: middle;\n",
       "    }\n",
       "\n",
       "    .dataframe tbody tr th {\n",
       "        vertical-align: top;\n",
       "    }\n",
       "\n",
       "    .dataframe thead th {\n",
       "        text-align: right;\n",
       "    }\n",
       "</style>\n",
       "<table border=\"1\" class=\"dataframe\">\n",
       "  <thead>\n",
       "    <tr style=\"text-align: right;\">\n",
       "      <th></th>\n",
       "      <th>Value</th>\n",
       "    </tr>\n",
       "    <tr>\n",
       "      <th>Date</th>\n",
       "      <th></th>\n",
       "    </tr>\n",
       "  </thead>\n",
       "  <tbody>\n",
       "    <tr>\n",
       "      <th>2019-09-02</th>\n",
       "      <td>1.0968</td>\n",
       "    </tr>\n",
       "    <tr>\n",
       "      <th>2019-09-03</th>\n",
       "      <td>1.0937</td>\n",
       "    </tr>\n",
       "    <tr>\n",
       "      <th>2019-09-04</th>\n",
       "      <td>1.1018</td>\n",
       "    </tr>\n",
       "    <tr>\n",
       "      <th>2019-09-05</th>\n",
       "      <td>1.1058</td>\n",
       "    </tr>\n",
       "    <tr>\n",
       "      <th>2019-09-06</th>\n",
       "      <td>1.1027</td>\n",
       "    </tr>\n",
       "  </tbody>\n",
       "</table>\n",
       "</div>"
      ],
      "text/plain": [
       "             Value\n",
       "Date              \n",
       "2019-09-02  1.0968\n",
       "2019-09-03  1.0937\n",
       "2019-09-04  1.1018\n",
       "2019-09-05  1.1058\n",
       "2019-09-06  1.1027"
      ]
     },
     "execution_count": 12,
     "metadata": {},
     "output_type": "execute_result"
    }
   ],
   "source": [
    "d.head()"
   ]
  },
  {
   "cell_type": "markdown",
   "metadata": {},
   "source": [
    "Now take the log-returns:"
   ]
  },
  {
   "cell_type": "code",
   "execution_count": 13,
   "metadata": {},
   "outputs": [
    {
     "data": {
      "text/plain": [
       "<matplotlib.axes._subplots.AxesSubplot at 0x25b8b3095c8>"
      ]
     },
     "execution_count": 13,
     "metadata": {},
     "output_type": "execute_result"
    },
    {
     "data": {
      "image/png": "[encoded data removed]",
      "text/plain": [
       "<Figure size 432x288 with 1 Axes>"
      ]
     },
     "metadata": {
      "needs_background": "light"
     },
     "output_type": "display_data"
    }
   ],
   "source": [
    "logreturns = np.log(d).diff().dropna()\n",
    "logreturns.plot()"
   ]
  },
  {
   "cell_type": "code",
   "execution_count": 14,
   "metadata": {},
   "outputs": [],
   "source": [
    "y = 100 * logreturns.values.astype(np.float32)"
   ]
  },
  {
   "cell_type": "markdown",
   "metadata": {},
   "source": [
    "### We can now build our filter:"
   ]
  },
  {
   "cell_type": "code",
   "execution_count": 15,
   "metadata": {},
   "outputs": [],
   "source": [
    "variables = [mu, phi, sigma_x, sigma_y]"
   ]
  },
  {
   "cell_type": "code",
   "execution_count": 16,
   "metadata": {},
   "outputs": [],
   "source": [
    "# filterflow resampling imports\n",
    "from filterflow.resampling import NeffCriterion, RegularisedTransform, SystematicResampler, PartiallyCorrectedRegularizedTransform"
   ]
  },
  {
   "cell_type": "code",
   "execution_count": 17,
   "metadata": {},
   "outputs": [],
   "source": [
    "proposal_model = BootstrapProposalModel(transition_model)\n",
    "criterion = NeffCriterion(0.5, is_relative=True)\n",
    "intermediate_resampler = RegularisedTransform(0.5, scaling=0.95, max_iter=500, convergence_threshold=1e-5)\n",
    "# resampler = PartiallyCorrectedRegularizedTransform(intermediate_resampler)\n",
    "resampler = RegularisedTransform(0.5, scaling=0.95, max_iter=500, convergence_threshold=1e-3)\n",
    "# resampler = SystematicResampler()\n",
    "smc = SMC(observation_model, transition_model, proposal_model, criterion, resampler)"
   ]
  },
  {
   "cell_type": "code",
   "execution_count": 18,
   "metadata": {},
   "outputs": [],
   "source": [
    "batch_size = 1\n",
    "n_particles = 5\n",
    "initial_state = State(np.random.normal(mu, sigma_x ** 2 / (1 - phi ** 2), [batch_size, n_particles, dx]).astype(np.float32))\n",
    "observations_dataset = tf.data.Dataset.from_tensor_slices(y)"
   ]
  },
  {
   "cell_type": "code",
   "execution_count": 19,
   "metadata": {},
   "outputs": [
    {
     "data": {
      "text/plain": [
       "array([[[-0.1590729 ],\n",
       "        [-0.22568174],\n",
       "        [ 0.4255671 ],\n",
       "        [ 0.07910511],\n",
       "        [-0.19535446]]], dtype=float32)"
      ]
     },
     "execution_count": 19,
     "metadata": {},
     "output_type": "execute_result"
    }
   ],
   "source": [
    "initial_state.particles"
   ]
  },
  {
   "cell_type": "markdown",
   "metadata": {},
   "source": [
    "Now what we are interested in is the log-likelihood of the model and its gradient, not the full history:"
   ]
  },
  {
   "cell_type": "code",
   "execution_count": 20,
   "metadata": {},
   "outputs": [],
   "source": [
    "states = smc(initial_state, observations_dataset, n_observations=len(y), return_final=False, seed=555)"
   ]
  },
  {
   "cell_type": "code",
   "execution_count": 21,
   "metadata": {},
   "outputs": [
    {
     "name": "stdout",
     "output_type": "stream",
     "text": [
      "[None, None, <tf.Tensor: shape=(1,), dtype=float32, numpy=array([-3.1100068], dtype=float32)>, <tf.Tensor: shape=(1,), dtype=float32, numpy=array([-94.74275], dtype=float32)>]\n"
     ]
    }
   ],
   "source": [
    "with tf.GradientTape(watch_accessed_variables=True) as tape:\n",
    "    tape.watch(variables)\n",
    "    final_state = smc(initial_state, observations_dataset, n_observations=len(y), return_final=True, seed=555)\n",
    "print(tape.gradient(final_state.log_likelihoods, variables))"
   ]
  },
  {
   "cell_type": "markdown",
   "metadata": {},
   "source": [
    "Why do we get Nones? This is a common ptfall that come from the fact that *some* operation is done outside the tape scope, that is $\\mu (1-\\phi)$"
   ]
  },
  {
   "cell_type": "markdown",
   "metadata": {},
   "source": [
    "We need to write the model in a more customized way (or reparametrize)"
   ]
  },
  {
   "cell_type": "code",
   "execution_count": 22,
   "metadata": {},
   "outputs": [],
   "source": [
    "import attr # This make updating the State easier \n",
    "\n",
    "class SVTransitionModel(TransitionModelBase):\n",
    "    def __init__(self, mu, phi, noise_rv):\n",
    "        self._mu = mu\n",
    "        self._phi = phi\n",
    "        self._noise_rv = noise_rv\n",
    "        \n",
    "    def loglikelihood(self, prior_state, proposed_state, inputs):\n",
    "        prior_particles = prior_state.particles\n",
    "        loc = self._phi * prior_particles + self._mu * (1 - self._phi)\n",
    "        diff = proposed_state.particles - loc\n",
    "        return self._noise_rv.log_prob(diff)\n",
    "        \n",
    "    def sample(self, state, inputs, seed):\n",
    "        batch_size, n_particles = state.batch_size, state.n_particles\n",
    "        particles = state.particles\n",
    "        loc = self._phi * particles + self._mu * (1 - self._phi)\n",
    "        new_particles = loc + self._noise_rv.sample((batch_size, n_particles), seed=seed)\n",
    "        return new_particles"
   ]
  },
  {
   "cell_type": "code",
   "execution_count": 23,
   "metadata": {},
   "outputs": [],
   "source": [
    "noise_rv = tfd.MultivariateNormalDiag(scale_diag=sigma_x)\n",
    "transition_model = SVTransitionModel(mu, phi, noise_rv)\n",
    "proposal_model = BootstrapProposalModel(transition_model)\n",
    "smc = SMC(observation_model, transition_model, proposal_model, criterion, resampler)"
   ]
  },
  {
   "cell_type": "code",
   "execution_count": 24,
   "metadata": {},
   "outputs": [
    {
     "name": "stdout",
     "output_type": "stream",
     "text": [
      "[<tf.Tensor: shape=(), dtype=float32, numpy=-23.53124>, <tf.Tensor: shape=(), dtype=float32, numpy=3.6438472>, <tf.Tensor: shape=(1,), dtype=float32, numpy=array([-3.1100068], dtype=float32)>, <tf.Tensor: shape=(1,), dtype=float32, numpy=array([-94.74275], dtype=float32)>]\n"
     ]
    }
   ],
   "source": [
    "with tf.GradientTape(watch_accessed_variables=True) as tape:\n",
    "    tape.watch(variables)\n",
    "    final_state = smc(initial_state, observations_dataset, n_observations=len(y), return_final=True, seed=555)\n",
    "print(tape.gradient(final_state.log_likelihoods, variables))"
   ]
  },
  {
   "cell_type": "code",
   "execution_count": null,
   "metadata": {},
   "outputs": [],
   "source": [
    "optimizer = tf.optimizers.Adam(learning_rate=1e-2)\n",
    "\n",
    "@tf.function\n",
    "def optimization(n_iter, change_seed):\n",
    "    # change_seed = True is ELBO, otherwise it's a MLE\n",
    "    variables = [mu, phi, sigma_x, sigma_y]\n",
    "    res = tf.constant(0.)\n",
    "    for i in tf.range(n_iter):\n",
    "        with tf.GradientTape() as tape:\n",
    "            tape.watch(variables)\n",
    "            if change_seed:\n",
    "                seed = i\n",
    "            else:\n",
    "                seed = 0\n",
    "            final_state = smc(initial_state, observations_dataset, n_observations=len(y), return_final=True, seed=seed)\n",
    "            res = -tf.reduce_mean(final_state.log_likelihoods)\n",
    "        grads = tape.gradient(res, variables)\n",
    "        optimizer.apply_gradients(zip(grads, variables))\n",
    "        tf.print(\"\\rStep:\", i+1, \"/\", n_iter, \", loss:\", res, \n",
    "                 \", sigma_x:\", sigma_x[0], \", sigma_y:\", sigma_y[0],\n",
    "                 \", mu:\", mu, \", phi:\", phi,\n",
    "                 end=\"\")\n",
    "    return res"
   ]
  },
  {
   "cell_type": "code",
   "execution_count": null,
   "metadata": {},
   "outputs": [
    {
     "name": "stdout",
     "output_type": "stream",
     "text": [
      "Step: 70 / 100 , loss: 19.1054173 , sigma_x: 0.0293514561 , sigma_y: 0.673717856 , mu: -1.76300168 , phi: 0.916084349427"
     ]
    }
   ],
   "source": [
    "optimization(100, True)"
   ]
  },
  {
   "cell_type": "markdown",
   "metadata": {},
   "source": [
    "Now that we have our gradient, we can simply go on and use it to learn the parameters"
   ]
  },
  {
   "cell_type": "code",
   "execution_count": null,
   "metadata": {},
   "outputs": [],
   "source": []
  },
  {
   "cell_type": "code",
   "execution_count": null,
   "metadata": {},
   "outputs": [],
   "source": []
  }
 ],
 "metadata": {
  "kernelspec": {
   "display_name": "Python 3",
   "language": "python",
   "name": "python3"
  },
  "language_info": {
   "codemirror_mode": {
    "name": "ipython",
    "version": 3
   },
   "file_extension": ".py",
   "mimetype": "text/x-python",
   "name": "python",
   "nbconvert_exporter": "python",
   "pygments_lexer": "ipython3",
   "version": "3.7.6"
  }
 },
 "nbformat": 4,
 "nbformat_minor": 4
}
